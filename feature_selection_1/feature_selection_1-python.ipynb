{
 "cells": [
  {
   "cell_type": "code",
   "execution_count": 4,
   "id": "c529ad4b",
   "metadata": {},
   "outputs": [],
   "source": [
    "import pandas as pd\n",
    "import numpy as np\n",
    "from sklearn.linear_model import LogisticRegressionCV\n",
    "from sklearn.feature_selection import SelectFromModel\n",
    "from sklearn.feature_selection import SelectKBest, f_classif\n",
    "from sklearn.feature_selection import chi2\n",
    "\n",
    "\n",
    "df = pd.read_csv(\"/Users/ishaanbabbar/dsan5300_project/new-cleaned_data-01.csv\")"
   ]
  },
  {
   "cell_type": "code",
   "execution_count": 5,
   "id": "4b2410c1",
   "metadata": {},
   "outputs": [],
   "source": [
    "# Separate Numerical and Categorical Data\n",
    "numeric_cols = df.select_dtypes(include = np.number).columns\n",
    "categorical_cols = df.select_dtypes(exclude = np.number).columns\n",
    "\n",
    "# Ensure categorical columns are encoded properly\n",
    "df[categorical_cols] = df[categorical_cols].apply(lambda x: x.astype('category'))\n",
    "\n",
    "# Check for missing values \n",
    "df.fillna(-999, inplace = True)"
   ]
  },
  {
   "cell_type": "code",
   "execution_count": 30,
   "id": "8d0b0c60",
   "metadata": {},
   "outputs": [
    {
     "name": "stdout",
     "output_type": "stream",
     "text": [
      "['P5_1', 'J2_1', 'J2_14', 'J2_15', 'J1AB', 'J1AF', 'J6_7', 'R2_1', 'Q1_1', 'Q1_6', 'Q1_13']\n"
     ]
    },
    {
     "name": "stderr",
     "output_type": "stream",
     "text": [
      "/Users/ishaanbabbar/anaconda3/lib/python3.11/site-packages/sklearn/feature_selection/_univariate_selection.py:113: RuntimeWarning: divide by zero encountered in divide\n",
      "  f = msb / msw\n"
     ]
    }
   ],
   "source": [
    "# Feature Selection for Numerical Features \n",
    "\n",
    "# ANOVA \n",
    "x = df[numeric_cols]\n",
    "y = df['Q1_1']\n",
    "\n",
    "anova_select = SelectKBest(score_func = f_classif, k = 11)\n",
    "anova_select.fit(x,y )\n",
    "\n",
    "# Obtain Indices for select feature\n",
    "anova_indices = anova_select.get_support(indices = True)\n",
    "\n",
    "# Obtain the names for the selected features in anova\n",
    "anova_features = x.columns[anova_indices].tolist()\n",
    "print(anova_features)"
   ]
  },
  {
   "cell_type": "code",
   "execution_count": 25,
   "id": "b048d934",
   "metadata": {
    "scrolled": true
   },
   "outputs": [
    {
     "name": "stdout",
     "output_type": "stream",
     "text": [
      "['H_IDNUMBER']\n"
     ]
    }
   ],
   "source": [
    "# Feature Selection for Categorical Features\n",
    "\n",
    "# Chi-Square test\n",
    "chi2_test = SelectKBest(score_func=chi2, k='all')\n",
    "chi2_fit = chi2_test.fit(df[categorical_cols], df['Q1_1'])\n",
    "p_values = chi2_fit.pvalues_\n",
    "significant_categorical = df[categorical_cols].columns[p_values < 0.05].tolist()\n",
    "print(significant_categorical)"
   ]
  },
  {
   "cell_type": "code",
   "execution_count": 31,
   "id": "c7c8c21e",
   "metadata": {},
   "outputs": [
    {
     "name": "stdout",
     "output_type": "stream",
     "text": [
      "P5_1\n",
      "J2_1\n",
      "J2_14\n",
      "J2_15\n",
      "J1AB\n",
      "J1AF\n",
      "J6_7\n",
      "R2_1\n",
      "Q1_1\n",
      "Q1_6\n",
      "Q1_13\n",
      "H_IDNUMBER\n"
     ]
    }
   ],
   "source": [
    "# Combine both to get names \n",
    "Select_features = anova_features + significant_categorical\n",
    "for feature_sel in Select_features:\n",
    "    print(feature_sel)"
   ]
  },
  {
   "cell_type": "markdown",
   "id": "788b9a0b",
   "metadata": {},
   "source": [
    "Y target value: Q1_1: Perceived Environmental Change: Temperature\n",
    "\n",
    "P5_1: Land Holdings: Does household cultivate aquaculture?\n",
    "\n",
    "J2_1: House Services: Light\n",
    "\n",
    "J2_14: House Services: Generator\n",
    "\n",
    "J2_15: House Services: Air conditioner\n",
    "\n",
    "J1AB: Energy: Used by household? - Fire wood\n",
    "\n",
    "J1AF: Energy: Used by household? - Electricity\n",
    "\n",
    "J6_7: Water Perceptions: Have you noticed a positive change in the quantity/quality?\n",
    "\n",
    "R2_1: Food Security: Cut size/skip meals? - Adult\n",
    "\n",
    "Q1_6: Perceived Environmental Change: Severity of drought\n",
    "\n",
    "Q1_13: Perceived Environmental Change: Abundance of fish in water\n",
    "H_IDNUMBER: Unique household ID"
   ]
  }
 ],
 "metadata": {
  "kernelspec": {
   "display_name": "Python 3 (ipykernel)",
   "language": "python",
   "name": "python3"
  },
  "language_info": {
   "codemirror_mode": {
    "name": "ipython",
    "version": 3
   },
   "file_extension": ".py",
   "mimetype": "text/x-python",
   "name": "python",
   "nbconvert_exporter": "python",
   "pygments_lexer": "ipython3",
   "version": "3.11.4"
  }
 },
 "nbformat": 4,
 "nbformat_minor": 5
}
