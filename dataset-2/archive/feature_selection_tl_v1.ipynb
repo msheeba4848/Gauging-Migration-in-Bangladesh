{
 "cells": [
  {
   "cell_type": "code",
   "execution_count": 2,
   "metadata": {},
   "outputs": [
    {
     "name": "stdout",
     "output_type": "stream",
     "text": [
      "   BEM_ID  P_IDCOR  H_IDNUMBER    HHNO  PERSNO  RELHEAD  A03  A07     A08  \\\n",
      "0     203      NaN         NaN  3169.0       3      3.0  2.0  1.0  2004.0   \n",
      "1     203      NaN         NaN  3169.0       4      3.0  2.0  1.0  2012.0   \n",
      "2     203      NaN         NaN  3169.0       5      3.0  1.0  1.0  2016.0   \n",
      "3     203      NaN         NaN  3169.0       2      2.0  2.0  1.0  1985.0   \n",
      "4     203      NaN         NaN  3169.0       1      1.0  1.0  2.0  1979.0   \n",
      "\n",
      "   A09  ...  G2_5B1S1  G2_6S1  G2_7S1  DISTRICT  D1A_10AF_3M  D1A_10AL_3M  \\\n",
      "0  NaN  ...       NaN     NaN     NaN       4.0          NaN          NaN   \n",
      "1  NaN  ...       NaN     NaN     NaN       4.0          NaN          NaN   \n",
      "2  NaN  ...       NaN     NaN     NaN       4.0          NaN          NaN   \n",
      "3  NaN  ...       NaN     NaN     NaN       4.0          NaN          NaN   \n",
      "4  NaN  ...       NaN     NaN     NaN       4.0          NaN          NaN   \n",
      "\n",
      "   D1C_10AF_3M  D1C_10AL_3M  A05  MOUZA_GRP  \n",
      "0          NaN          NaN  1.0        4.0  \n",
      "1          NaN          NaN  1.0        4.0  \n",
      "2          NaN          NaN  1.0        4.0  \n",
      "3          NaN          NaN  1.0        4.0  \n",
      "4          NaN          NaN  1.0        4.0  \n",
      "\n",
      "[5 rows x 154 columns]\n"
     ]
    }
   ],
   "source": [
    "import pandas as pd\n",
    "\n",
    "df = pd.read_csv('../cleaned_data/cleaning_data-02.csv')\n",
    "#df.fillna(999999, inplace=True)\n",
    "print(df.head())"
   ]
  },
  {
   "cell_type": "code",
   "execution_count": 6,
   "metadata": {},
   "outputs": [],
   "source": [
    "# dropping all the na values from a specific column\n",
    "df.dropna(subset=['D1A_1V1L'], inplace=True)\n",
    "\n",
    "df.head(10)\n",
    "\n",
    "df.fillna(0.001, inplace=True)\n",
    "\n"
   ]
  },
  {
   "cell_type": "code",
   "execution_count": 8,
   "metadata": {},
   "outputs": [
    {
     "name": "stdout",
     "output_type": "stream",
     "text": [
      "original feature number: 154\n",
      "Reduced feature number: 4\n",
      "SelectKBest(k=4, score_func=<function chi2 at 0x16728c0d0>)\n",
      "Selected features:\n",
      "N1_6TAKA\n",
      "N1_12\n",
      "N1_13\n",
      "N1_14\n",
      "N1_16\n",
      "N1_17\n",
      "G1_5A1SIL1\n",
      "G2_5B1S1\n",
      "D1A_10AF_3M\n",
      "D1A_10AL_3M\n"
     ]
    }
   ],
   "source": [
    "from sklearn.feature_selection import SelectKBest\n",
    "from sklearn.feature_selection import chi2\n",
    "#https://www.analyticsvidhya.com/blog/2020/10/feature-selection-techniques-in-machine-learning/\n",
    "\n",
    "df_cat = df\n",
    "Y = df[['D1A_1V1L']]\n",
    "\n",
    "chi2_features = SelectKBest(chi2, k=4)\n",
    "X_kbest_features = chi2_features.fit_transform(df_cat, Y)\n",
    "\n",
    "print('original feature number:', df_cat.shape[1])\n",
    "print('Reduced feature number:', X_kbest_features.shape[1])\n",
    "\n",
    "print(chi2_features)\n",
    "\n",
    "# Create SelectKBest instance\n",
    "chi2_features = SelectKBest(chi2, k=10)\n",
    "\n",
    "# Fit SelectKBest to the data\n",
    "chi2_features.fit(df_cat, Y)\n",
    "\n",
    "# Get boolean array indicating selected features\n",
    "selected_features = chi2_features.get_support()\n",
    "\n",
    "# Get names of selected features\n",
    "selected_feature_names = df_cat.columns[selected_features]\n",
    "\n",
    "# Print selected feature names\n",
    "print(\"Selected features:\")\n",
    "for feature in selected_feature_names:\n",
    "    print(feature)\n"
   ]
  }
 ],
 "metadata": {
  "kernelspec": {
   "display_name": "base",
   "language": "python",
   "name": "python3"
  },
  "language_info": {
   "codemirror_mode": {
    "name": "ipython",
    "version": 3
   },
   "file_extension": ".py",
   "mimetype": "text/x-python",
   "name": "python",
   "nbconvert_exporter": "python",
   "pygments_lexer": "ipython3",
   "version": "3.10.9"
  }
 },
 "nbformat": 4,
 "nbformat_minor": 2
}
