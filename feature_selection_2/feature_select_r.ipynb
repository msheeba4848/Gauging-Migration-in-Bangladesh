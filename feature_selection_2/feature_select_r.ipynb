{
  "cells": [
    {
      "cell_type": "raw",
      "metadata": {},
      "source": [
        "---\n",
        "title: \"Data 2\"\n",
        "format: html\n",
        "editor: visual\n",
        "---"
      ]
    },
    {
      "cell_type": "code",
      "execution_count": 426,
      "metadata": {
        "vscode": {
          "languageId": "r"
        }
      },
      "outputs": [],
      "source": [
        "df_original <- read.csv('../cleaned_data/cleaning_data-02.csv')\n",
        "\n",
        "na_indices <- which(is.na(df_original), arr.ind = TRUE)\n",
        "df_original[na_indices] <- 99999\n",
        "df <- df_original[, -c(1, 2, 3, 4, 9)]\n",
        "\n",
        "#print(head(df))\n"
      ]
    },
    {
      "cell_type": "code",
      "execution_count": 427,
      "metadata": {
        "vscode": {
          "languageId": "r"
        }
      },
      "outputs": [
        {
          "data": {
            "text/html": [
              "<table class=\"dataframe\">\n",
              "<caption>A data.frame: 6 x 149</caption>\n",
              "<thead>\n",
              "\t<tr><th></th><th scope=col>PERSNO</th><th scope=col>RELHEAD</th><th scope=col>A03</th><th scope=col>A07</th><th scope=col>A09</th><th scope=col>A10A</th><th scope=col>A11</th><th scope=col>A11Y</th><th scope=col>A12</th><th scope=col>A13</th><th scope=col>...</th><th scope=col>G2_5B1S1</th><th scope=col>G2_6S1</th><th scope=col>G2_7S1</th><th scope=col>DISTRICT</th><th scope=col>D1A_10AF_3M</th><th scope=col>D1A_10AL_3M</th><th scope=col>D1C_10AF_3M</th><th scope=col>D1C_10AL_3M</th><th scope=col>A05</th><th scope=col>MOUZA_GRP</th></tr>\n",
              "\t<tr><th></th><th scope=col>&lt;int&gt;</th><th scope=col>&lt;dbl&gt;</th><th scope=col>&lt;dbl&gt;</th><th scope=col>&lt;dbl&gt;</th><th scope=col>&lt;dbl&gt;</th><th scope=col>&lt;dbl&gt;</th><th scope=col>&lt;dbl&gt;</th><th scope=col>&lt;dbl&gt;</th><th scope=col>&lt;dbl&gt;</th><th scope=col>&lt;dbl&gt;</th><th scope=col>...</th><th scope=col>&lt;dbl&gt;</th><th scope=col>&lt;dbl&gt;</th><th scope=col>&lt;dbl&gt;</th><th scope=col>&lt;dbl&gt;</th><th scope=col>&lt;dbl&gt;</th><th scope=col>&lt;dbl&gt;</th><th scope=col>&lt;dbl&gt;</th><th scope=col>&lt;dbl&gt;</th><th scope=col>&lt;dbl&gt;</th><th scope=col>&lt;dbl&gt;</th></tr>\n",
              "</thead>\n",
              "<tbody>\n",
              "\t<tr><th scope=row>1</th><td>3</td><td>3</td><td>2</td><td>1</td><td>99999</td><td>86</td><td>    4</td><td>99999</td><td>    1</td><td>    4</td><td>...</td><td>99999</td><td>99999</td><td>99999</td><td>4</td><td>99999</td><td>99999</td><td>99999</td><td>99999</td><td>1</td><td>4</td></tr>\n",
              "\t<tr><th scope=row>2</th><td>4</td><td>3</td><td>2</td><td>1</td><td>99999</td><td>86</td><td>99999</td><td>99999</td><td>99999</td><td>    2</td><td>...</td><td>99999</td><td>99999</td><td>99999</td><td>4</td><td>99999</td><td>99999</td><td>99999</td><td>99999</td><td>1</td><td>4</td></tr>\n",
              "\t<tr><th scope=row>3</th><td>5</td><td>3</td><td>1</td><td>1</td><td>99999</td><td>86</td><td>99999</td><td>99999</td><td>99999</td><td>99999</td><td>...</td><td>99999</td><td>99999</td><td>99999</td><td>4</td><td>99999</td><td>99999</td><td>99999</td><td>99999</td><td>1</td><td>4</td></tr>\n",
              "\t<tr><th scope=row>4</th><td>2</td><td>2</td><td>2</td><td>1</td><td>99999</td><td>86</td><td>    1</td><td>   13</td><td>    2</td><td>    2</td><td>...</td><td>99999</td><td>99999</td><td>99999</td><td>4</td><td>99999</td><td>99999</td><td>99999</td><td>99999</td><td>1</td><td>4</td></tr>\n",
              "\t<tr><th scope=row>5</th><td>1</td><td>1</td><td>1</td><td>2</td><td>99999</td><td>86</td><td>    1</td><td>   19</td><td>    1</td><td>    4</td><td>...</td><td>99999</td><td>99999</td><td>99999</td><td>4</td><td>99999</td><td>99999</td><td>99999</td><td>99999</td><td>1</td><td>4</td></tr>\n",
              "\t<tr><th scope=row>6</th><td>5</td><td>3</td><td>2</td><td>2</td><td>99999</td><td>86</td><td>    1</td><td>   18</td><td>    2</td><td>    4</td><td>...</td><td>99999</td><td>99999</td><td>99999</td><td>4</td><td>99999</td><td>99999</td><td>99999</td><td>99999</td><td>1</td><td>4</td></tr>\n",
              "</tbody>\n",
              "</table>\n"
            ],
            "text/latex": [
              "A data.frame: 6 x 149\n",
              "\\begin{tabular}{r|lllllllllllllllllllll}\n",
              "  & PERSNO & RELHEAD & A03 & A07 & A09 & A10A & A11 & A11Y & A12 & A13 & ... & G2\\_5B1S1 & G2\\_6S1 & G2\\_7S1 & DISTRICT & D1A\\_10AF\\_3M & D1A\\_10AL\\_3M & D1C\\_10AF\\_3M & D1C\\_10AL\\_3M & A05 & MOUZA\\_GRP\\\\\n",
              "  & <int> & <dbl> & <dbl> & <dbl> & <dbl> & <dbl> & <dbl> & <dbl> & <dbl> & <dbl> & ... & <dbl> & <dbl> & <dbl> & <dbl> & <dbl> & <dbl> & <dbl> & <dbl> & <dbl> & <dbl>\\\\\n",
              "\\hline\n",
              "\t1 & 3 & 3 & 2 & 1 & 99999 & 86 &     4 & 99999 &     1 &     4 & ... & 99999 & 99999 & 99999 & 4 & 99999 & 99999 & 99999 & 99999 & 1 & 4\\\\\n",
              "\t2 & 4 & 3 & 2 & 1 & 99999 & 86 & 99999 & 99999 & 99999 &     2 & ... & 99999 & 99999 & 99999 & 4 & 99999 & 99999 & 99999 & 99999 & 1 & 4\\\\\n",
              "\t3 & 5 & 3 & 1 & 1 & 99999 & 86 & 99999 & 99999 & 99999 & 99999 & ... & 99999 & 99999 & 99999 & 4 & 99999 & 99999 & 99999 & 99999 & 1 & 4\\\\\n",
              "\t4 & 2 & 2 & 2 & 1 & 99999 & 86 &     1 &    13 &     2 &     2 & ... & 99999 & 99999 & 99999 & 4 & 99999 & 99999 & 99999 & 99999 & 1 & 4\\\\\n",
              "\t5 & 1 & 1 & 1 & 2 & 99999 & 86 &     1 &    19 &     1 &     4 & ... & 99999 & 99999 & 99999 & 4 & 99999 & 99999 & 99999 & 99999 & 1 & 4\\\\\n",
              "\t6 & 5 & 3 & 2 & 2 & 99999 & 86 &     1 &    18 &     2 &     4 & ... & 99999 & 99999 & 99999 & 4 & 99999 & 99999 & 99999 & 99999 & 1 & 4\\\\\n",
              "\\end{tabular}\n"
            ],
            "text/markdown": [
              "\n",
              "A data.frame: 6 x 149\n",
              "\n",
              "| <!--/--> | PERSNO &lt;int&gt; | RELHEAD &lt;dbl&gt; | A03 &lt;dbl&gt; | A07 &lt;dbl&gt; | A09 &lt;dbl&gt; | A10A &lt;dbl&gt; | A11 &lt;dbl&gt; | A11Y &lt;dbl&gt; | A12 &lt;dbl&gt; | A13 &lt;dbl&gt; | ... ... | G2_5B1S1 &lt;dbl&gt; | G2_6S1 &lt;dbl&gt; | G2_7S1 &lt;dbl&gt; | DISTRICT &lt;dbl&gt; | D1A_10AF_3M &lt;dbl&gt; | D1A_10AL_3M &lt;dbl&gt; | D1C_10AF_3M &lt;dbl&gt; | D1C_10AL_3M &lt;dbl&gt; | A05 &lt;dbl&gt; | MOUZA_GRP &lt;dbl&gt; |\n",
              "|---|---|---|---|---|---|---|---|---|---|---|---|---|---|---|---|---|---|---|---|---|---|\n",
              "| 1 | 3 | 3 | 2 | 1 | 99999 | 86 |     4 | 99999 |     1 |     4 | ... | 99999 | 99999 | 99999 | 4 | 99999 | 99999 | 99999 | 99999 | 1 | 4 |\n",
              "| 2 | 4 | 3 | 2 | 1 | 99999 | 86 | 99999 | 99999 | 99999 |     2 | ... | 99999 | 99999 | 99999 | 4 | 99999 | 99999 | 99999 | 99999 | 1 | 4 |\n",
              "| 3 | 5 | 3 | 1 | 1 | 99999 | 86 | 99999 | 99999 | 99999 | 99999 | ... | 99999 | 99999 | 99999 | 4 | 99999 | 99999 | 99999 | 99999 | 1 | 4 |\n",
              "| 4 | 2 | 2 | 2 | 1 | 99999 | 86 |     1 |    13 |     2 |     2 | ... | 99999 | 99999 | 99999 | 4 | 99999 | 99999 | 99999 | 99999 | 1 | 4 |\n",
              "| 5 | 1 | 1 | 1 | 2 | 99999 | 86 |     1 |    19 |     1 |     4 | ... | 99999 | 99999 | 99999 | 4 | 99999 | 99999 | 99999 | 99999 | 1 | 4 |\n",
              "| 6 | 5 | 3 | 2 | 2 | 99999 | 86 |     1 |    18 |     2 |     4 | ... | 99999 | 99999 | 99999 | 4 | 99999 | 99999 | 99999 | 99999 | 1 | 4 |\n",
              "\n"
            ],
            "text/plain": [
              "  PERSNO RELHEAD A03 A07 A09   A10A A11   A11Y  A12   A13   ... G2_5B1S1 G2_6S1\n",
              "1 3      3       2   1   99999 86       4 99999     1     4 ... 99999    99999 \n",
              "2 4      3       2   1   99999 86   99999 99999 99999     2 ... 99999    99999 \n",
              "3 5      3       1   1   99999 86   99999 99999 99999 99999 ... 99999    99999 \n",
              "4 2      2       2   1   99999 86       1    13     2     2 ... 99999    99999 \n",
              "5 1      1       1   2   99999 86       1    19     1     4 ... 99999    99999 \n",
              "6 5      3       2   2   99999 86       1    18     2     4 ... 99999    99999 \n",
              "  G2_7S1 DISTRICT D1A_10AF_3M D1A_10AL_3M D1C_10AF_3M D1C_10AL_3M A05 MOUZA_GRP\n",
              "1 99999  4        99999       99999       99999       99999       1   4        \n",
              "2 99999  4        99999       99999       99999       99999       1   4        \n",
              "3 99999  4        99999       99999       99999       99999       1   4        \n",
              "4 99999  4        99999       99999       99999       99999       1   4        \n",
              "5 99999  4        99999       99999       99999       99999       1   4        \n",
              "6 99999  4        99999       99999       99999       99999       1   4        "
            ]
          },
          "metadata": {},
          "output_type": "display_data"
        }
      ],
      "source": [
        "head(df)"
      ]
    },
    {
      "cell_type": "code",
      "execution_count": 428,
      "metadata": {
        "vscode": {
          "languageId": "r"
        }
      },
      "outputs": [],
      "source": [
        "\n",
        "#for(col in names(df)) {\n",
        "#  cat(\"Unique values and their counts for column\", col, \":\\n\")\n",
        "#\n",
        "#  unique_counts <- table(df[[col]])\n",
        "#\n",
        "\n",
        "#  print(unique_counts)\n",
        "# cat(\"\\n\")\n",
        "#}\n"
      ]
    },
    {
      "cell_type": "markdown",
      "metadata": {},
      "source": [
        "# Model 1\n",
        "Independent Variable\n",
        "D1A_1V1L: Internal: Primary purpose of trip: work/earn money - Last, Head\n",
        "\n",
        "\n",
        "Dependent Variable\n",
        "A12: Household: Can you write a letter?\n",
        "A13: Household: Level of education (Highest level passed)\n",
        "A14: Household: Livelihood/occupation\n",
        "D1A_6AL: Internal: District of destination - Last, Head\n",
        "D1A_7ML: Internal: Month of arrival - Last, Head\n",
        "A15V1: Household: Have migration experience?: Internal\n",
        "-- not in cleaned data? A15V2: Household: Have migration experience?: India\n",
        "-- not in cleaned data? A15V3: Household: Have migration experience?: Other country\n",
        "A15V4: Household: Have migration experience?: No migration\n"
      ]
    },
    {
      "cell_type": "code",
      "execution_count": 429,
      "metadata": {
        "vscode": {
          "languageId": "r"
        }
      },
      "outputs": [
        {
          "name": "stdout",
          "output_type": "stream",
          "text": [
            "  D1A_1V1L   A12   A13   A14 D1A_7ML A15V1 A15V4\n",
            "1    99999     1     4    14   99999 99999     4\n",
            "2    99999 99999     2 99999   99999 99999     4\n",
            "3    99999 99999 99999 99999   99999 99999     4\n",
            "4    99999     2     2    17   99999 99999     4\n",
            "5    99999     1     4    10   99999 99999 99999\n",
            "6    99999     2     4    17   99999     1 99999\n"
          ]
        }
      ],
      "source": [
        "df2 <-df_original[, c(\"D1A_1V1L\", \"A12\", \"A13\", \"A14\", \"D1A_7ML\", \"A15V1\", \"A15V4\")]\n",
        "# temporarily taking out D1A_6AL\n",
        "\n",
        "#converting cateogorical variables to factor\n",
        "df2 <- as.data.frame(lapply(df2, factor))\n",
        "print(head(df2))"
      ]
    },
    {
      "cell_type": "code",
      "execution_count": 430,
      "metadata": {
        "vscode": {
          "languageId": "r"
        }
      },
      "outputs": [
        {
          "name": "stdout",
          "output_type": "stream",
          "text": [
            "[1] 23506    62\n"
          ]
        }
      ],
      "source": [
        "# converting variables to dummy variables\n",
        "library(\"fastDummies\")\n",
        "df2 <- fastDummies::dummy_cols(df2)\n",
        "print(dim(df2))"
      ]
    },
    {
      "cell_type": "code",
      "execution_count": 431,
      "metadata": {
        "vscode": {
          "languageId": "r"
        }
      },
      "outputs": [
        {
          "name": "stdout",
          "output_type": "stream",
          "text": [
            "  D1A_1V1L D1A_1V1L_99999 A12_1 A12_99999 A13_1 A13_2 A13_3 A13_4 A13_5 A13_6\n",
            "1    99999              1     1         0     0     0     0     1     0     0\n",
            "2    99999              1     0         1     0     1     0     0     0     0\n",
            "3    99999              1     0         1     0     0     0     0     0     0\n",
            "4    99999              1     0         0     0     1     0     0     0     0\n",
            "5    99999              1     1         0     0     0     0     1     0     0\n",
            "6    99999              1     0         0     0     0     0     1     0     0\n",
            "  A13_7 A13_8 A13_9 A13_99999 A14_1 A14_2 A14_3 A14_4 A14_5 A14_6 A14_7 A14_8\n",
            "1     0     0     0         0     0     0     0     0     0     0     0     0\n",
            "2     0     0     0         0     0     0     0     0     0     0     0     0\n",
            "3     0     0     0         1     0     0     0     0     0     0     0     0\n",
            "4     0     0     0         0     0     0     0     0     0     0     0     0\n",
            "5     0     0     0         0     0     0     0     0     0     0     0     0\n",
            "6     0     0     0         0     0     0     0     0     0     0     0     0\n",
            "  A14_9 A14_10 A14_11 A14_12 A14_13 A14_14 A14_15 A14_16 A14_17 A14_18 A14_19\n",
            "1     0      0      0      0      0      1      0      0      0      0      0\n",
            "2     0      0      0      0      0      0      0      0      0      0      0\n",
            "3     0      0      0      0      0      0      0      0      0      0      0\n",
            "4     0      0      0      0      0      0      0      0      1      0      0\n",
            "5     0      1      0      0      0      0      0      0      0      0      0\n",
            "6     0      0      0      0      0      0      0      0      1      0      0\n",
            "  A14_99 A14_99999 D1A_7ML_1 D1A_7ML_2 D1A_7ML_3 D1A_7ML_4 D1A_7ML_5 D1A_7ML_6\n",
            "1      0         0         0         0         0         0         0         0\n",
            "2      0         1         0         0         0         0         0         0\n",
            "3      0         1         0         0         0         0         0         0\n",
            "4      0         0         0         0         0         0         0         0\n",
            "5      0         0         0         0         0         0         0         0\n",
            "6      0         0         0         0         0         0         0         0\n",
            "  D1A_7ML_7 D1A_7ML_8 D1A_7ML_9 D1A_7ML_10 D1A_7ML_11 D1A_7ML_12 D1A_7ML_98\n",
            "1         0         0         0          0          0          0          0\n",
            "2         0         0         0          0          0          0          0\n",
            "3         0         0         0          0          0          0          0\n",
            "4         0         0         0          0          0          0          0\n",
            "5         0         0         0          0          0          0          0\n",
            "6         0         0         0          0          0          0          0\n",
            "  D1A_7ML_99999 A15V1_1 A15V1_99999 A15V4_4 A15V4_99999\n",
            "1             1       0           1       1           0\n",
            "2             1       0           1       1           0\n",
            "3             1       0           1       1           0\n",
            "4             1       0           1       1           0\n",
            "5             1       0           1       0           1\n",
            "6             1       1           0       0           1\n"
          ]
        }
      ],
      "source": [
        "# removing rows that do not have D1A_1V1L\n",
        "df2 <- df2[!is.na(df2$D1A_1V1L), ]\n",
        "# Dropped duplicate columns that we made into dummy variables already\n",
        "df2 <- df2[, -which(names(df2) %in% c(\"D1A_1V1L_1\", \"D1A_1V1L_0\", \"D1A_1V1L_NA\", \"A12_2\", \"A12\", \"A13\", \"A14\", \"D1A_7ML\", \"A15V1\", \"A15V4\"))]\n",
        "#replace NA with 0, 0 meaning \"No\", assuming that if the participant did not say yes to a question, than it would be no.\n",
        "df2 <- replace(df2, is.na(df2), 0)\n",
        "print(head(df2))"
      ]
    },
    {
      "cell_type": "code",
      "execution_count": 432,
      "metadata": {
        "vscode": {
          "languageId": "r"
        }
      },
      "outputs": [],
      "source": [
        "# INSERT CODE \n",
        "library(caret)\n",
        "set.seed(123) # for reproducibility\n",
        "train_idx <- createDataPartition(df2$D1A_1V1L, p = 0.8, list = FALSE)\n",
        "train <- df2[train_idx,]\n",
        "test <- df2[-train_idx,] "
      ]
    },
    {
      "cell_type": "code",
      "execution_count": 433,
      "metadata": {
        "vscode": {
          "languageId": "r"
        }
      },
      "outputs": [
        {
          "name": "stdout",
          "output_type": "stream",
          "text": [
            "       Predicted\n",
            "Actual  Positive\n",
            "  0           63\n",
            "  1          336\n",
            "  99999     4301\n"
          ]
        }
      ],
      "source": [
        "# Create model with predictors found from linear model # with the significant\n",
        "model2 <- glm(D1A_1V1L ~ A14_8 + A14_9 + A14_17 + D1A_7ML_9, data = train, family = binomial)\n",
        "\n",
        "# Make predictions on test data\n",
        "predictions <- predict(model2, newdata = test, type = \"response\")\n",
        "\n",
        "# Convert probabilities to class labels, assign greater than 0.5 to Positive\n",
        "pred_classes <- ifelse(predictions > 0.5, \"Positive\", \"Negative\")\n",
        "\n",
        "# Create the confusion matrix\n",
        "cm <- table(Actual = test$D1A_1V1L, Predicted = pred_classes)\n",
        "\n",
        "# Confusion Matrix\n",
        "print(cm)"
      ]
    },
    {
      "cell_type": "code",
      "execution_count": 434,
      "metadata": {
        "vscode": {
          "languageId": "r"
        }
      },
      "outputs": [
        {
          "name": "stdout",
          "output_type": "stream",
          "text": [
            "Accuracy: 0.07510638 \n",
            "Precision: 0.8856383 \n",
            "Recall: 0.9910714 \n",
            "F1 Score: 0.9353933 \n"
          ]
        }
      ],
      "source": [
        "# Calculate True Positives (TP), True Negatives (TN), False Positives (FP), False Negatives (FN)\n",
        "TP <- 333\n",
        "TN <- 20\n",
        "FP <- 43\n",
        "FN <- 3\n",
        "\n",
        "# Calculate accuracy\n",
        "accuracy <- (TP + TN) / sum(cm)\n",
        "\n",
        "# Calculate precision\n",
        "precision <- TP / (TP + FP)\n",
        "\n",
        "# Calculate recall (also called sensitivity)\n",
        "recall <- TP / (TP + FN)\n",
        "\n",
        "# Calculate F1 score\n",
        "F1 <- 2 * (precision * recall) / (precision + recall)\n",
        "\n",
        "# Print the metrics\n",
        "cat(\"Accuracy:\", accuracy, \"\\n\")\n",
        "cat(\"Precision:\", precision, \"\\n\")\n",
        "cat(\"Recall:\", recall, \"\\n\")\n",
        "cat(\"F1 Score:\", F1, \"\\n\")"
      ]
    },
    {
      "cell_type": "markdown",
      "metadata": {},
      "source": [
        "## Regsubset - Attempt"
      ]
    },
    {
      "cell_type": "code",
      "execution_count": 435,
      "metadata": {
        "vscode": {
          "languageId": "r"
        }
      },
      "outputs": [
        {
          "data": {
            "text/plain": [
              "Subset selection object\n",
              "Call: regsubsets.formula(D1A_1V1L ~ A14_8 + A14_9 + A14_17 + D1A_7ML_9, \n",
              "    data = df2, nvmax = 71, method = \"exhaustive\")\n",
              "4 Variables  (and intercept)\n",
              "          Forced in Forced out\n",
              "A14_8         FALSE      FALSE\n",
              "A14_9         FALSE      FALSE\n",
              "A14_17        FALSE      FALSE\n",
              "D1A_7ML_9     FALSE      FALSE\n",
              "1 subsets of each size up to 4\n",
              "Selection Algorithm: exhaustive\n",
              "         A14_8 A14_9 A14_17 D1A_7ML_9\n",
              "1  ( 1 ) \" \"   \" \"   \" \"    \"*\"      \n",
              "2  ( 1 ) \" \"   \" \"   \"*\"    \"*\"      \n",
              "3  ( 1 ) \" \"   \"*\"   \"*\"    \"*\"      \n",
              "4  ( 1 ) \"*\"   \"*\"   \"*\"    \"*\"      "
            ]
          },
          "metadata": {},
          "output_type": "display_data"
        },
        {
          "data": {
            "text/html": [
              "<style>\n",
              ".list-inline {list-style: none; margin:0; padding: 0}\n",
              ".list-inline>li {display: inline-block}\n",
              ".list-inline>li:not(:last-child)::after {content: \"\\00b7\"; padding: 0 .5ex}\n",
              "</style>\n",
              "<ol class=list-inline><li>0.0174158189183052</li><li>0.0291369174461731</li><li>0.0291076657800731</li><li>0.0290759802454478</li></ol>\n"
            ],
            "text/latex": [
              "\\begin{enumerate*}\n",
              "\\item 0.0174158189183052\n",
              "\\item 0.0291369174461731\n",
              "\\item 0.0291076657800731\n",
              "\\item 0.0290759802454478\n",
              "\\end{enumerate*}\n"
            ],
            "text/markdown": [
              "1. 0.0174158189183052\n",
              "2. 0.0291369174461731\n",
              "3. 0.0291076657800731\n",
              "4. 0.0290759802454478\n",
              "\n",
              "\n"
            ],
            "text/plain": [
              "[1] 0.01741582 0.02913692 0.02910767 0.02907598"
            ]
          },
          "metadata": {},
          "output_type": "display_data"
        },
        {
          "data": {
            "text/html": [
              "<style>\n",
              ".list-inline {list-style: none; margin:0; padding: 0}\n",
              ".list-inline>li {display: inline-block}\n",
              ".list-inline>li:not(:last-child)::after {content: \"\\00b7\"; padding: 0 .5ex}\n",
              "</style>\n",
              "<ol class=list-inline><li>284.267640162452</li><li>1.52490308252163</li><li>3.23302604569108</li><li>5</li></ol>\n"
            ],
            "text/latex": [
              "\\begin{enumerate*}\n",
              "\\item 284.267640162452\n",
              "\\item 1.52490308252163\n",
              "\\item 3.23302604569108\n",
              "\\item 5\n",
              "\\end{enumerate*}\n"
            ],
            "text/markdown": [
              "1. 284.267640162452\n",
              "2. 1.52490308252163\n",
              "3. 3.23302604569108\n",
              "4. 5\n",
              "\n",
              "\n"
            ],
            "text/plain": [
              "[1] 284.267640   1.524903   3.233026   5.000000"
            ]
          },
          "metadata": {},
          "output_type": "display_data"
        },
        {
          "data": {
            "text/html": [
              "<style>\n",
              ".list-inline {list-style: none; margin:0; padding: 0}\n",
              ".list-inline>li {display: inline-block}\n",
              ".list-inline>li:not(:last-child)::after {content: \"\\00b7\"; padding: 0 .5ex}\n",
              "</style>\n",
              "<ol class=list-inline><li>-393.853030236874</li><li>-666.873497077694</li><li>-657.100420519111</li><li>-647.268484000477</li></ol>\n"
            ],
            "text/latex": [
              "\\begin{enumerate*}\n",
              "\\item -393.853030236874\n",
              "\\item -666.873497077694\n",
              "\\item -657.100420519111\n",
              "\\item -647.268484000477\n",
              "\\end{enumerate*}\n"
            ],
            "text/markdown": [
              "1. -393.853030236874\n",
              "2. -666.873497077694\n",
              "3. -657.100420519111\n",
              "4. -647.268484000477\n",
              "\n",
              "\n"
            ],
            "text/plain": [
              "[1] -393.8530 -666.8735 -657.1004 -647.2685"
            ]
          },
          "metadata": {},
          "output_type": "display_data"
        },
        {
          "data": {
            "text/html": [
              "<table class=\"dataframe\">\n",
              "<caption>A data.frame: 1 x 3</caption>\n",
              "<thead>\n",
              "\t<tr><th scope=col>Adj.R2</th><th scope=col>CP</th><th scope=col>BIC</th></tr>\n",
              "\t<tr><th scope=col>&lt;int&gt;</th><th scope=col>&lt;int&gt;</th><th scope=col>&lt;int&gt;</th></tr>\n",
              "</thead>\n",
              "<tbody>\n",
              "\t<tr><td>2</td><td>2</td><td>2</td></tr>\n",
              "</tbody>\n",
              "</table>\n"
            ],
            "text/latex": [
              "A data.frame: 1 x 3\n",
              "\\begin{tabular}{lll}\n",
              " Adj.R2 & CP & BIC\\\\\n",
              " <int> & <int> & <int>\\\\\n",
              "\\hline\n",
              "\t 2 & 2 & 2\\\\\n",
              "\\end{tabular}\n"
            ],
            "text/markdown": [
              "\n",
              "A data.frame: 1 x 3\n",
              "\n",
              "| Adj.R2 &lt;int&gt; | CP &lt;int&gt; | BIC &lt;int&gt; |\n",
              "|---|---|---|\n",
              "| 2 | 2 | 2 |\n",
              "\n"
            ],
            "text/plain": [
              "  Adj.R2 CP BIC\n",
              "1 2      2  2  "
            ]
          },
          "metadata": {},
          "output_type": "display_data"
        }
      ],
      "source": [
        "# INSERT CODE \n",
        "library(leaps) # w significant ones\n",
        "\n",
        "model1 <- regsubsets(D1A_1V1L ~ A14_8 + A14_9 + A14_17 + D1A_7ML_9, data = df2, nvmax = 71, method = \"exhaustive\")\n",
        "\n",
        "summary(model1)\n",
        "\n",
        "results1 <- summary(model1)\n",
        "\n",
        "results1$adjr2\n",
        "results1$cp\n",
        "results1$bic\n",
        "\n",
        "\n",
        "data.frame(\n",
        "  Adj.R2 = which.max(results1$adjr2),\n",
        "  CP = which.min(results1$cp),\n",
        "  BIC = which.min(results1$bic)\n",
        ")"
      ]
    },
    {
      "cell_type": "markdown",
      "metadata": {},
      "source": [
        "## Feature Selection/Interesting Findings\n",
        "\n",
        "Results:\n",
        "A14_8       -1.747e+00  8.781e-01  -1.989   0.0467 *  \n",
        "A14_9        2.309e+00  9.075e-01   2.544   0.0110 * \n",
        "A14_17      -2.934e+00  6.180e-01  -4.747 2.06e-06 ***\n",
        "D1A_7ML_9    1.268e+00  6.034e-01   2.101   0.0356 * \n",
        "\n",
        "Descriptions Mapped:\n",
        "A14_8: Domestic servant\n",
        "A14_9: Non agricultural worker(factory worker, blue collar service)\n",
        "A14_17: Homemaker\n",
        "D1A_7ML_9: D1A_7ML: Internal: Month of arrival - Last, Head - Month 9/September\n",
        "  *** could we also do year??\n",
        "  \n",
        "Conclusion:\n",
        "These predictors may have a relationship to D1A_1V1L: Internal: Primary purpose of trip: work/earn money - Last, Head.\n",
        "\n",
        "\n",
        "\n",
        "# Model 2\n",
        "\n",
        "Independent Variable\n",
        "D1A_1V1L: Internal: Primary purpose of trip: work/earn money - Last, Head\n",
        "\n",
        "\n",
        "Dependent Variable\n",
        "-- numeric D1A_4: Internal: Total number of trips - Head\n",
        "-- numeric A08: Household: Year of birth\n",
        "    converted to Age\n",
        "-- numeric N1_6TAKA: Internal: How much paid in taka?\n",
        "-- numeric A11Y: Household: Age at first marriage"
      ]
    },
    {
      "cell_type": "code",
      "execution_count": 436,
      "metadata": {
        "vscode": {
          "languageId": "r"
        }
      },
      "outputs": [
        {
          "name": "stdout",
          "output_type": "stream",
          "text": [
            "  D1A_1V1L D1A_4  A08  A11Y N1_6TAKA\n",
            "1    99999 99999 2004 99999    99999\n",
            "2    99999 99999 2012 99999    99999\n",
            "3    99999 99999 2016 99999    99999\n",
            "4    99999 99999 1985    13    99999\n",
            "5    99999 99999 1979    19    99999\n",
            "6    99999 99999 1998    18    99999\n"
          ]
        }
      ],
      "source": [
        "df2 <-df_original[, c(\"D1A_1V1L\", \"D1A_4\", \"A08\", \"A11Y\" ,\"N1_6TAKA\")]\n",
        "print(head(df2))"
      ]
    },
    {
      "cell_type": "code",
      "execution_count": 437,
      "metadata": {
        "vscode": {
          "languageId": "r"
        }
      },
      "outputs": [
        {
          "name": "stdout",
          "output_type": "stream",
          "text": [
            "  D1A_1V1L D1A_4 Age N1_6TAKA  A11Y\n",
            "1    99999 99999  15    99999 99999\n",
            "2    99999 99999   7    99999 99999\n",
            "3    99999 99999   3    99999 99999\n",
            "4    99999 99999  34    99999    13\n",
            "5    99999 99999  40    99999    19\n",
            "6    99999 99999  21    99999    18\n",
            "[1] 23506     5\n"
          ]
        }
      ],
      "source": [
        "df2 <- df2[!is.na(df2$D1A_1V1L), ]\n",
        "df2 <- na.omit(df2)\n",
        "df2$Age <- 2019 - df2$A08\n",
        "df2 <-df2[, c(\"D1A_1V1L\", \"D1A_4\", \"Age\", \"N1_6TAKA\", \"A11Y\")]\n",
        "print(head(df2))\n",
        "print(dim(df2))"
      ]
    },
    {
      "cell_type": "code",
      "execution_count": 438,
      "metadata": {
        "vscode": {
          "languageId": "r"
        }
      },
      "outputs": [
        {
          "data": {
            "text/plain": [
              "\n",
              "Call:\n",
              "lm(formula = D1A_1V1L ~ ., data = df2)\n",
              "\n",
              "Residuals:\n",
              "   Min     1Q Median     3Q    Max \n",
              "   -74      0      0      0  99943 \n",
              "\n",
              "Coefficients:\n",
              "              Estimate Std. Error  t value Pr(>|t|)    \n",
              "(Intercept)  5.099e+01  1.489e+01    3.423 0.000619 ***\n",
              "D1A_4        9.996e-01  1.853e-04 5395.168  < 2e-16 ***\n",
              "Age          5.087e-05  4.698e-03    0.011 0.991359    \n",
              "N1_6TAKA    -9.367e-05  1.330e-04   -0.704 0.481412    \n",
              "A11Y         1.003e-06  8.950e-05    0.011 0.991055    \n",
              "---\n",
              "Signif. codes:  0 '***' 0.001 '**' 0.01 '*' 0.05 '.' 0.1 ' ' 1\n",
              "\n",
              "Residual standard error: 652.1 on 23501 degrees of freedom\n",
              "Multiple R-squared:  0.9995,\tAdjusted R-squared:  0.9995 \n",
              "F-statistic: 1.075e+07 on 4 and 23501 DF,  p-value: < 2.2e-16\n"
            ]
          },
          "metadata": {},
          "output_type": "display_data"
        }
      ],
      "source": [
        "model <- lm(D1A_1V1L ~ ., data = df2)\n",
        "\n",
        "# look at summary of linear model\n",
        "(summary2_lm <- summary(model))"
      ]
    },
    {
      "cell_type": "markdown",
      "metadata": {},
      "source": [
        "## Feature Selection/Interesting Findings\n",
        "\n",
        "Conclusion:\n",
        "Number of trips predictor of primary purpose of trip to work/earn money\n",
        "\n",
        "# Model 3\n",
        "\n",
        "Independent Variables\n",
        "D1A_1V9L: Internal: Primary purpose of trip: accompany family - Last, Head\n",
        "\n",
        "Dependent Variable\n",
        "A12: Household: Can you write a letter?\n",
        "A13: Household: Level of education (Highest level passed)\n",
        "A14: Household: Livelihood/occupation\n",
        "D1A_6AL: Internal: District of destination - Last, Head\n",
        "D1A_7ML: Internal: Month of arrival - Last, Head\n",
        "A15V1: Household: Have migration experience?: Internal\n",
        "-- not in cleaned data? A15V2: Household: Have migration experience?: India\n",
        "-- not in cleaned data? A15V3: Household: Have migration experience?: Other country\n",
        "A15V4: Household: Have migration experience?: No migration\n"
      ]
    },
    {
      "cell_type": "code",
      "execution_count": 439,
      "metadata": {
        "vscode": {
          "languageId": "r"
        }
      },
      "outputs": [
        {
          "name": "stdout",
          "output_type": "stream",
          "text": [
            "  D1A_1V9L   A12   A13   A14 D1A_7ML A15V1 A15V4\n",
            "1    99999     1     4    14   99999 99999     4\n",
            "2    99999 99999     2 99999   99999 99999     4\n",
            "3    99999 99999 99999 99999   99999 99999     4\n",
            "4    99999     2     2    17   99999 99999     4\n",
            "5    99999     1     4    10   99999 99999 99999\n",
            "6    99999     2     4    17   99999     1 99999\n"
          ]
        }
      ],
      "source": [
        "df2 <-df_original[, c(\"D1A_1V9L\", \"A12\", \"A13\", \"A14\", \"D1A_7ML\", \"A15V1\", \"A15V4\")]\n",
        "# temporarily taking out D1A_6AL\n",
        "df2 <- as.data.frame(lapply(df2, factor))\n",
        "print(head(df2))"
      ]
    },
    {
      "cell_type": "code",
      "execution_count": 440,
      "metadata": {
        "vscode": {
          "languageId": "r"
        }
      },
      "outputs": [
        {
          "name": "stdout",
          "output_type": "stream",
          "text": [
            "[1] 23506    62\n"
          ]
        }
      ],
      "source": [
        "library(\"fastDummies\")\n",
        "df2 <- fastDummies::dummy_cols(df2)\n",
        "print(dim(df2))"
      ]
    },
    {
      "cell_type": "code",
      "execution_count": 441,
      "metadata": {
        "vscode": {
          "languageId": "r"
        }
      },
      "outputs": [
        {
          "name": "stdout",
          "output_type": "stream",
          "text": [
            "  D1A_1V9L D1A_1V9L_99999 A12_1 A12_99999 A13_1 A13_2 A13_3 A13_4 A13_5 A13_6\n",
            "1    99999              1     1         0     0     0     0     1     0     0\n",
            "2    99999              1     0         1     0     1     0     0     0     0\n",
            "3    99999              1     0         1     0     0     0     0     0     0\n",
            "4    99999              1     0         0     0     1     0     0     0     0\n",
            "5    99999              1     1         0     0     0     0     1     0     0\n",
            "6    99999              1     0         0     0     0     0     1     0     0\n",
            "  A13_7 A13_8 A13_9 A13_99999 A14_1 A14_2 A14_3 A14_4 A14_5 A14_6 A14_7 A14_8\n",
            "1     0     0     0         0     0     0     0     0     0     0     0     0\n",
            "2     0     0     0         0     0     0     0     0     0     0     0     0\n",
            "3     0     0     0         1     0     0     0     0     0     0     0     0\n",
            "4     0     0     0         0     0     0     0     0     0     0     0     0\n",
            "5     0     0     0         0     0     0     0     0     0     0     0     0\n",
            "6     0     0     0         0     0     0     0     0     0     0     0     0\n",
            "  A14_9 A14_10 A14_11 A14_12 A14_13 A14_14 A14_15 A14_16 A14_17 A14_18 A14_19\n",
            "1     0      0      0      0      0      1      0      0      0      0      0\n",
            "2     0      0      0      0      0      0      0      0      0      0      0\n",
            "3     0      0      0      0      0      0      0      0      0      0      0\n",
            "4     0      0      0      0      0      0      0      0      1      0      0\n",
            "5     0      1      0      0      0      0      0      0      0      0      0\n",
            "6     0      0      0      0      0      0      0      0      1      0      0\n",
            "  A14_99 A14_99999 D1A_7ML_1 D1A_7ML_2 D1A_7ML_3 D1A_7ML_4 D1A_7ML_5 D1A_7ML_6\n",
            "1      0         0         0         0         0         0         0         0\n",
            "2      0         1         0         0         0         0         0         0\n",
            "3      0         1         0         0         0         0         0         0\n",
            "4      0         0         0         0         0         0         0         0\n",
            "5      0         0         0         0         0         0         0         0\n",
            "6      0         0         0         0         0         0         0         0\n",
            "  D1A_7ML_7 D1A_7ML_8 D1A_7ML_9 D1A_7ML_10 D1A_7ML_11 D1A_7ML_12 D1A_7ML_98\n",
            "1         0         0         0          0          0          0          0\n",
            "2         0         0         0          0          0          0          0\n",
            "3         0         0         0          0          0          0          0\n",
            "4         0         0         0          0          0          0          0\n",
            "5         0         0         0          0          0          0          0\n",
            "6         0         0         0          0          0          0          0\n",
            "  D1A_7ML_99999 A15V1_1 A15V1_99999 A15V4_4 A15V4_99999\n",
            "1             1       0           1       1           0\n",
            "2             1       0           1       1           0\n",
            "3             1       0           1       1           0\n",
            "4             1       0           1       1           0\n",
            "5             1       0           1       0           1\n",
            "6             1       1           0       0           1\n"
          ]
        }
      ],
      "source": [
        "df2 <- df2[!is.na(df2$D1A_1V9L), ]\n",
        "# Drop specified columns from df2\n",
        "df2 <- df2[, -which(names(df2) %in% c(\"D1A_1V9L_1\", \"D1A_1V9L_0\", \"D1A_1V9L_NA\", \"A12_2\", \"A12\", \"A13\", \"A14\", \"D1A_7ML\", \"A15V1\", \"A15V4\"))]\n",
        "df2 <- replace(df2, is.na(df2), 0)\n",
        "print(head(df2))"
      ]
    },
    {
      "cell_type": "code",
      "execution_count": 442,
      "metadata": {
        "vscode": {
          "languageId": "r"
        }
      },
      "outputs": [
        {
          "name": "stderr",
          "output_type": "stream",
          "text": [
            "Warning message:\n",
            "\"glm.fit: algorithm did not converge\"\n",
            "Warning message:\n",
            "\"glm.fit: fitted probabilities numerically 0 or 1 occurred\"\n"
          ]
        },
        {
          "data": {
            "text/plain": [
              "\n",
              "Call:\n",
              "glm(formula = D1A_1V9L ~ ., family = binomial, data = df2)\n",
              "\n",
              "Coefficients: (3 not defined because of singularities)\n",
              "                 Estimate Std. Error z value Pr(>|z|)  \n",
              "(Intercept)     3.338e+12  4.782e+13   0.070   0.9444  \n",
              "D1A_1V9L_99999  5.400e+01  4.145e+03   0.013   0.9896  \n",
              "A12_1           3.681e-01  4.096e-01   0.899   0.3688  \n",
              "A12_99999      -1.241e+01  3.181e+04   0.000   0.9997  \n",
              "A13_1           4.930e+11  6.242e+12   0.079   0.9370  \n",
              "A13_2           4.930e+11  6.242e+12   0.079   0.9370  \n",
              "A13_3           4.930e+11  6.242e+12   0.079   0.9370  \n",
              "A13_4           4.930e+11  6.242e+12   0.079   0.9370  \n",
              "A13_5           4.930e+11  6.242e+12   0.079   0.9370  \n",
              "A13_6           4.930e+11  6.242e+12   0.079   0.9370  \n",
              "A13_7           4.930e+11  6.242e+12   0.079   0.9370  \n",
              "A13_8           4.930e+11  6.242e+12   0.079   0.9370  \n",
              "A13_9           4.930e+11  6.242e+12   0.079   0.9370  \n",
              "A13_99999       4.930e+11  6.242e+12   0.079   0.9370  \n",
              "A14_1           1.697e+10  2.443e+12   0.007   0.9945  \n",
              "A14_2           1.697e+10  2.443e+12   0.007   0.9945  \n",
              "A14_3           1.697e+10  2.443e+12   0.007   0.9945  \n",
              "A14_4           1.697e+10  2.443e+12   0.007   0.9945  \n",
              "A14_5           1.697e+10  2.443e+12   0.007   0.9945  \n",
              "A14_6           1.697e+10  2.443e+12   0.007   0.9945  \n",
              "A14_7           1.697e+10  2.443e+12   0.007   0.9945  \n",
              "A14_8           1.697e+10  2.443e+12   0.007   0.9945  \n",
              "A14_9           1.697e+10  2.443e+12   0.007   0.9945  \n",
              "A14_10          1.697e+10  2.443e+12   0.007   0.9945  \n",
              "A14_11          1.697e+10  2.443e+12   0.007   0.9945  \n",
              "A14_12          1.697e+10  2.443e+12   0.007   0.9945  \n",
              "A14_13          1.697e+10  2.443e+12   0.007   0.9945  \n",
              "A14_14          1.697e+10  2.443e+12   0.007   0.9945  \n",
              "A14_15          1.697e+10  2.443e+12   0.007   0.9945  \n",
              "A14_16          1.697e+10  2.443e+12   0.007   0.9945  \n",
              "A14_17          1.697e+10  2.443e+12   0.007   0.9945  \n",
              "A14_18          1.697e+10  2.443e+12   0.007   0.9945  \n",
              "A14_19          1.697e+10  2.443e+12   0.007   0.9945  \n",
              "A14_99          1.697e+10  2.443e+12   0.007   0.9945  \n",
              "A14_99999       1.697e+10  2.443e+12   0.007   0.9945  \n",
              "D1A_7ML_1      -1.263e+00  5.442e-01  -2.320   0.0203 *\n",
              "D1A_7ML_2      -5.576e-01  4.329e-01  -1.288   0.1978  \n",
              "D1A_7ML_3       1.633e-01  4.316e-01   0.378   0.7051  \n",
              "D1A_7ML_4      -4.660e-01  7.061e-01  -0.660   0.5093  \n",
              "D1A_7ML_5      -2.273e-01  5.835e-01  -0.389   0.6969  \n",
              "D1A_7ML_6      -5.605e-01  5.101e-01  -1.099   0.2718  \n",
              "D1A_7ML_7      -4.392e-01  7.719e-01  -0.569   0.5694  \n",
              "D1A_7ML_8      -1.704e+00  8.897e-01  -1.915   0.0555 .\n",
              "D1A_7ML_9      -1.562e+00  7.177e-01  -2.177   0.0295 *\n",
              "D1A_7ML_10     -2.430e-01  9.746e-01  -0.249   0.8031  \n",
              "D1A_7ML_11     -2.094e+00  1.180e+00  -1.775   0.0760 .\n",
              "D1A_7ML_12     -1.746e+00  8.873e-01  -1.968   0.0491 *\n",
              "D1A_7ML_98             NA         NA      NA       NA  \n",
              "D1A_7ML_99999          NA         NA      NA       NA  \n",
              "A15V1_1        -3.848e+12  5.292e+13  -0.073   0.9420  \n",
              "A15V1_99999    -3.848e+12  5.292e+13  -0.073   0.9420  \n",
              "A15V4_4         1.538e+01  1.919e+03   0.008   0.9936  \n",
              "A15V4_99999            NA         NA      NA       NA  \n",
              "---\n",
              "Signif. codes:  0 '***' 0.001 '**' 0.01 '*' 0.05 '.' 0.1 ' ' 1\n",
              "\n",
              "(Dispersion parameter for binomial family taken to be 1)\n",
              "\n",
              "    Null deviance: 12743.42  on 23505  degrees of freedom\n",
              "Residual deviance:   788.92  on 23456  degrees of freedom\n",
              "AIC: 888.92\n",
              "\n",
              "Number of Fisher Scoring iterations: 25\n"
            ]
          },
          "metadata": {},
          "output_type": "display_data"
        }
      ],
      "source": [
        "model <- glm(D1A_1V9L ~ ., data = df2, family=binomial)\n",
        "\n",
        "# look at summary of linear model\n",
        "(summary2_lm <- summary(model))"
      ]
    },
    {
      "cell_type": "markdown",
      "metadata": {},
      "source": [
        "## Feature Selection/Interesting Findings\n",
        "Not much different from Model 1\n"
      ]
    },
    {
      "cell_type": "code",
      "execution_count": 443,
      "metadata": {
        "vscode": {
          "languageId": "r"
        }
      },
      "outputs": [],
      "source": [
        "# sticking to model 1 with df2\n"
      ]
    },
    {
      "cell_type": "markdown",
      "metadata": {},
      "source": []
    },
    {
      "cell_type": "code",
      "execution_count": 444,
      "metadata": {
        "vscode": {
          "languageId": "r"
        }
      },
      "outputs": [
        {
          "data": {
            "text/html": [
              "<table class=\"dataframe\">\n",
              "<caption>A data.frame: 6 x 53</caption>\n",
              "<thead>\n",
              "\t<tr><th></th><th scope=col>D1A_1V9L</th><th scope=col>D1A_1V9L_99999</th><th scope=col>A12_1</th><th scope=col>A12_99999</th><th scope=col>A13_1</th><th scope=col>A13_2</th><th scope=col>A13_3</th><th scope=col>A13_4</th><th scope=col>A13_5</th><th scope=col>A13_6</th><th scope=col>...</th><th scope=col>D1A_7ML_9</th><th scope=col>D1A_7ML_10</th><th scope=col>D1A_7ML_11</th><th scope=col>D1A_7ML_12</th><th scope=col>D1A_7ML_98</th><th scope=col>D1A_7ML_99999</th><th scope=col>A15V1_1</th><th scope=col>A15V1_99999</th><th scope=col>A15V4_4</th><th scope=col>A15V4_99999</th></tr>\n",
              "\t<tr><th></th><th scope=col>&lt;fct&gt;</th><th scope=col>&lt;int&gt;</th><th scope=col>&lt;int&gt;</th><th scope=col>&lt;int&gt;</th><th scope=col>&lt;int&gt;</th><th scope=col>&lt;int&gt;</th><th scope=col>&lt;int&gt;</th><th scope=col>&lt;int&gt;</th><th scope=col>&lt;int&gt;</th><th scope=col>&lt;int&gt;</th><th scope=col>...</th><th scope=col>&lt;int&gt;</th><th scope=col>&lt;int&gt;</th><th scope=col>&lt;int&gt;</th><th scope=col>&lt;int&gt;</th><th scope=col>&lt;int&gt;</th><th scope=col>&lt;int&gt;</th><th scope=col>&lt;int&gt;</th><th scope=col>&lt;int&gt;</th><th scope=col>&lt;int&gt;</th><th scope=col>&lt;int&gt;</th></tr>\n",
              "</thead>\n",
              "<tbody>\n",
              "\t<tr><th scope=row>1</th><td>99999</td><td>1</td><td>1</td><td>0</td><td>0</td><td>0</td><td>0</td><td>1</td><td>0</td><td>0</td><td>...</td><td>0</td><td>0</td><td>0</td><td>0</td><td>0</td><td>1</td><td>0</td><td>1</td><td>1</td><td>0</td></tr>\n",
              "\t<tr><th scope=row>2</th><td>99999</td><td>1</td><td>0</td><td>1</td><td>0</td><td>1</td><td>0</td><td>0</td><td>0</td><td>0</td><td>...</td><td>0</td><td>0</td><td>0</td><td>0</td><td>0</td><td>1</td><td>0</td><td>1</td><td>1</td><td>0</td></tr>\n",
              "\t<tr><th scope=row>3</th><td>99999</td><td>1</td><td>0</td><td>1</td><td>0</td><td>0</td><td>0</td><td>0</td><td>0</td><td>0</td><td>...</td><td>0</td><td>0</td><td>0</td><td>0</td><td>0</td><td>1</td><td>0</td><td>1</td><td>1</td><td>0</td></tr>\n",
              "\t<tr><th scope=row>4</th><td>99999</td><td>1</td><td>0</td><td>0</td><td>0</td><td>1</td><td>0</td><td>0</td><td>0</td><td>0</td><td>...</td><td>0</td><td>0</td><td>0</td><td>0</td><td>0</td><td>1</td><td>0</td><td>1</td><td>1</td><td>0</td></tr>\n",
              "\t<tr><th scope=row>5</th><td>99999</td><td>1</td><td>1</td><td>0</td><td>0</td><td>0</td><td>0</td><td>1</td><td>0</td><td>0</td><td>...</td><td>0</td><td>0</td><td>0</td><td>0</td><td>0</td><td>1</td><td>0</td><td>1</td><td>0</td><td>1</td></tr>\n",
              "\t<tr><th scope=row>6</th><td>99999</td><td>1</td><td>0</td><td>0</td><td>0</td><td>0</td><td>0</td><td>1</td><td>0</td><td>0</td><td>...</td><td>0</td><td>0</td><td>0</td><td>0</td><td>0</td><td>1</td><td>1</td><td>0</td><td>0</td><td>1</td></tr>\n",
              "</tbody>\n",
              "</table>\n"
            ],
            "text/latex": [
              "A data.frame: 6 x 53\n",
              "\\begin{tabular}{r|lllllllllllllllllllll}\n",
              "  & D1A\\_1V9L & D1A\\_1V9L\\_99999 & A12\\_1 & A12\\_99999 & A13\\_1 & A13\\_2 & A13\\_3 & A13\\_4 & A13\\_5 & A13\\_6 & ... & D1A\\_7ML\\_9 & D1A\\_7ML\\_10 & D1A\\_7ML\\_11 & D1A\\_7ML\\_12 & D1A\\_7ML\\_98 & D1A\\_7ML\\_99999 & A15V1\\_1 & A15V1\\_99999 & A15V4\\_4 & A15V4\\_99999\\\\\n",
              "  & <fct> & <int> & <int> & <int> & <int> & <int> & <int> & <int> & <int> & <int> & ... & <int> & <int> & <int> & <int> & <int> & <int> & <int> & <int> & <int> & <int>\\\\\n",
              "\\hline\n",
              "\t1 & 99999 & 1 & 1 & 0 & 0 & 0 & 0 & 1 & 0 & 0 & ... & 0 & 0 & 0 & 0 & 0 & 1 & 0 & 1 & 1 & 0\\\\\n",
              "\t2 & 99999 & 1 & 0 & 1 & 0 & 1 & 0 & 0 & 0 & 0 & ... & 0 & 0 & 0 & 0 & 0 & 1 & 0 & 1 & 1 & 0\\\\\n",
              "\t3 & 99999 & 1 & 0 & 1 & 0 & 0 & 0 & 0 & 0 & 0 & ... & 0 & 0 & 0 & 0 & 0 & 1 & 0 & 1 & 1 & 0\\\\\n",
              "\t4 & 99999 & 1 & 0 & 0 & 0 & 1 & 0 & 0 & 0 & 0 & ... & 0 & 0 & 0 & 0 & 0 & 1 & 0 & 1 & 1 & 0\\\\\n",
              "\t5 & 99999 & 1 & 1 & 0 & 0 & 0 & 0 & 1 & 0 & 0 & ... & 0 & 0 & 0 & 0 & 0 & 1 & 0 & 1 & 0 & 1\\\\\n",
              "\t6 & 99999 & 1 & 0 & 0 & 0 & 0 & 0 & 1 & 0 & 0 & ... & 0 & 0 & 0 & 0 & 0 & 1 & 1 & 0 & 0 & 1\\\\\n",
              "\\end{tabular}\n"
            ],
            "text/markdown": [
              "\n",
              "A data.frame: 6 x 53\n",
              "\n",
              "| <!--/--> | D1A_1V9L &lt;fct&gt; | D1A_1V9L_99999 &lt;int&gt; | A12_1 &lt;int&gt; | A12_99999 &lt;int&gt; | A13_1 &lt;int&gt; | A13_2 &lt;int&gt; | A13_3 &lt;int&gt; | A13_4 &lt;int&gt; | A13_5 &lt;int&gt; | A13_6 &lt;int&gt; | ... ... | D1A_7ML_9 &lt;int&gt; | D1A_7ML_10 &lt;int&gt; | D1A_7ML_11 &lt;int&gt; | D1A_7ML_12 &lt;int&gt; | D1A_7ML_98 &lt;int&gt; | D1A_7ML_99999 &lt;int&gt; | A15V1_1 &lt;int&gt; | A15V1_99999 &lt;int&gt; | A15V4_4 &lt;int&gt; | A15V4_99999 &lt;int&gt; |\n",
              "|---|---|---|---|---|---|---|---|---|---|---|---|---|---|---|---|---|---|---|---|---|---|\n",
              "| 1 | 99999 | 1 | 1 | 0 | 0 | 0 | 0 | 1 | 0 | 0 | ... | 0 | 0 | 0 | 0 | 0 | 1 | 0 | 1 | 1 | 0 |\n",
              "| 2 | 99999 | 1 | 0 | 1 | 0 | 1 | 0 | 0 | 0 | 0 | ... | 0 | 0 | 0 | 0 | 0 | 1 | 0 | 1 | 1 | 0 |\n",
              "| 3 | 99999 | 1 | 0 | 1 | 0 | 0 | 0 | 0 | 0 | 0 | ... | 0 | 0 | 0 | 0 | 0 | 1 | 0 | 1 | 1 | 0 |\n",
              "| 4 | 99999 | 1 | 0 | 0 | 0 | 1 | 0 | 0 | 0 | 0 | ... | 0 | 0 | 0 | 0 | 0 | 1 | 0 | 1 | 1 | 0 |\n",
              "| 5 | 99999 | 1 | 1 | 0 | 0 | 0 | 0 | 1 | 0 | 0 | ... | 0 | 0 | 0 | 0 | 0 | 1 | 0 | 1 | 0 | 1 |\n",
              "| 6 | 99999 | 1 | 0 | 0 | 0 | 0 | 0 | 1 | 0 | 0 | ... | 0 | 0 | 0 | 0 | 0 | 1 | 1 | 0 | 0 | 1 |\n",
              "\n"
            ],
            "text/plain": [
              "  D1A_1V9L D1A_1V9L_99999 A12_1 A12_99999 A13_1 A13_2 A13_3 A13_4 A13_5 A13_6\n",
              "1 99999    1              1     0         0     0     0     1     0     0    \n",
              "2 99999    1              0     1         0     1     0     0     0     0    \n",
              "3 99999    1              0     1         0     0     0     0     0     0    \n",
              "4 99999    1              0     0         0     1     0     0     0     0    \n",
              "5 99999    1              1     0         0     0     0     1     0     0    \n",
              "6 99999    1              0     0         0     0     0     1     0     0    \n",
              "  ... D1A_7ML_9 D1A_7ML_10 D1A_7ML_11 D1A_7ML_12 D1A_7ML_98 D1A_7ML_99999\n",
              "1 ... 0         0          0          0          0          1            \n",
              "2 ... 0         0          0          0          0          1            \n",
              "3 ... 0         0          0          0          0          1            \n",
              "4 ... 0         0          0          0          0          1            \n",
              "5 ... 0         0          0          0          0          1            \n",
              "6 ... 0         0          0          0          0          1            \n",
              "  A15V1_1 A15V1_99999 A15V4_4 A15V4_99999\n",
              "1 0       1           1       0          \n",
              "2 0       1           1       0          \n",
              "3 0       1           1       0          \n",
              "4 0       1           1       0          \n",
              "5 0       1           0       1          \n",
              "6 1       0           0       1          "
            ]
          },
          "metadata": {},
          "output_type": "display_data"
        }
      ],
      "source": [
        "head(df2)"
      ]
    },
    {
      "cell_type": "markdown",
      "metadata": {
        "vscode": {
          "languageId": "r"
        }
      },
      "source": [
        "# Logistic Regression (Baseline)"
      ]
    },
    {
      "cell_type": "code",
      "execution_count": 445,
      "metadata": {
        "vscode": {
          "languageId": "r"
        }
      },
      "outputs": [
        {
          "name": "stderr",
          "output_type": "stream",
          "text": [
            "Warning message:\n",
            "\"glm.fit: algorithm did not converge\"\n",
            "Warning message:\n",
            "\"glm.fit: fitted probabilities numerically 0 or 1 occurred\"\n",
            "Warning message in levels(reference) != levels(data):\n",
            "\"longer object length is not a multiple of shorter object length\"\n",
            "Warning message in confusionMatrix.default(factor(binary_predictions), test$D1A_1V1L):\n",
            "\"Levels are not in the same order for reference and data. Refactoring data to match.\"\n",
            "Warning message in roc.default(test$D1A_1V1L, predictions):\n",
            "\"'response' has more than two levels. Consider setting 'levels' explicitly or using 'multiclass.roc' instead\"\n",
            "Setting levels: control = 0, case = 1\n",
            "\n",
            "Setting direction: controls < cases\n",
            "\n"
          ]
        },
        {
          "name": "stdout",
          "output_type": "stream",
          "text": [
            "           Accuracy Specificity    Recall Sensitivity       AUC\n",
            "Accuracy 0.07489362   0.8853333 0.3174603   0.8333333 0.7358985\n"
          ]
        },
        {
          "data": {
            "image/png": "[encoded data removed]",
            "text/plain": [
              "Plot with title \"ROC Curve\""
            ]
          },
          "metadata": {
            "image/png": {
              "height": 420,
              "width": 420
            }
          },
          "output_type": "display_data"
        }
      ],
      "source": [
        "library(caret)\n",
        "library(pROC)\n",
        "\n",
        "logistic_model <- glm(D1A_1V1L ~ ., data = train, family = binomial)\n",
        "\n",
        "predictions <- predict(logistic_model, newdata = test, type = \"response\")\n",
        "\n",
        "binary_predictions <- ifelse(predictions >= 0.5, 1, 0)\n",
        "\n",
        "confusion_matrix <- confusionMatrix(factor(binary_predictions), test$D1A_1V1L)\n",
        "\n",
        "accuracy <- confusion_matrix$overall[\"Accuracy\"]\n",
        "\n",
        "\n",
        "specificity <- confusion_matrix$table[2, 2] / (confusion_matrix$table[2, 2] + confusion_matrix$table[2, 1])\n",
        "\n",
        "\n",
        "recall <- confusion_matrix$table[1, 1] / (confusion_matrix$table[1, 1] + confusion_matrix$table[2, 1])\n",
        "\n",
        "\n",
        "sensitivity <- confusion_matrix$table[1, 1] / (confusion_matrix$table[1, 1] + confusion_matrix$table[1, 2])\n",
        "\n",
        "\n",
        "roc <- roc(test$D1A_1V1L, predictions)\n",
        "auc <- auc(roc)\n",
        "\n",
        "\n",
        "plot(roc, main = \"ROC Curve\", col = \"blue\", lwd = 2)\n",
        "\n",
        "metrics_df <- data.frame(\n",
        "  Accuracy = accuracy,\n",
        "  Specificity = specificity,\n",
        "  Recall = recall,\n",
        "  Sensitivity = sensitivity,\n",
        "  AUC = auc\n",
        ")\n",
        "\n",
        "# Print metrics\n",
        "print(metrics_df)\n"
      ]
    },
    {
      "cell_type": "markdown",
      "metadata": {},
      "source": [
        "# Logistic Regression with CV"
      ]
    },
    {
      "cell_type": "code",
      "execution_count": 446,
      "metadata": {
        "vscode": {
          "languageId": "r"
        }
      },
      "outputs": [
        {
          "data": {
            "text/html": [
              "<style>\n",
              ".list-inline {list-style: none; margin:0; padding: 0}\n",
              ".list-inline>li {display: inline-block}\n",
              ".list-inline>li:not(:last-child)::after {content: \"\\00b7\"; padding: 0 .5ex}\n",
              "</style>\n",
              "<ol class=list-inline><li>99999</li><li>0</li><li>1</li></ol>\n",
              "\n",
              "<details>\n",
              "\t<summary style=display:list-item;cursor:pointer>\n",
              "\t\t<strong>Levels</strong>:\n",
              "\t</summary>\n",
              "\t<style>\n",
              "\t.list-inline {list-style: none; margin:0; padding: 0}\n",
              "\t.list-inline>li {display: inline-block}\n",
              "\t.list-inline>li:not(:last-child)::after {content: \"\\00b7\"; padding: 0 .5ex}\n",
              "\t</style>\n",
              "\t<ol class=list-inline><li>'0'</li><li>'1'</li><li>'99999'</li></ol>\n",
              "</details>"
            ],
            "text/latex": [
              "\\begin{enumerate*}\n",
              "\\item 99999\n",
              "\\item 0\n",
              "\\item 1\n",
              "\\end{enumerate*}\n",
              "\n",
              "\\emph{Levels}: \\begin{enumerate*}\n",
              "\\item '0'\n",
              "\\item '1'\n",
              "\\item '99999'\n",
              "\\end{enumerate*}\n"
            ],
            "text/markdown": [
              "1. 99999\n",
              "2. 0\n",
              "3. 1\n",
              "\n",
              "\n",
              "\n",
              "**Levels**: 1. '0'\n",
              "2. '1'\n",
              "3. '99999'\n",
              "\n",
              "\n"
            ],
            "text/plain": [
              "[1] 99999 0     1    \n",
              "Levels: 0 1 99999"
            ]
          },
          "metadata": {},
          "output_type": "display_data"
        }
      ],
      "source": [
        "unique(train$D1A_1V1L)"
      ]
    },
    {
      "cell_type": "code",
      "execution_count": 447,
      "metadata": {
        "vscode": {
          "languageId": "r"
        }
      },
      "outputs": [
        {
          "data": {
            "text/html": [
              "18806"
            ],
            "text/latex": [
              "18806"
            ],
            "text/markdown": [
              "18806"
            ],
            "text/plain": [
              "[1] 18806"
            ]
          },
          "metadata": {},
          "output_type": "display_data"
        }
      ],
      "source": [
        "num_rows <- nrow(train)\n",
        "num_rows"
      ]
    },
    {
      "cell_type": "code",
      "execution_count": 448,
      "metadata": {
        "vscode": {
          "languageId": "r"
        }
      },
      "outputs": [],
      "source": [
        "train <- train[train$D1A_1V1L %in% c(0, 1), ]\n",
        "test <- test[test$D1A_1V1L %in% c(0, 1), ]\n",
        "\n"
      ]
    },
    {
      "cell_type": "code",
      "execution_count": 449,
      "metadata": {
        "vscode": {
          "languageId": "r"
        }
      },
      "outputs": [
        {
          "name": "stdout",
          "output_type": "stream",
          "text": [
            "[1] \"0\" \"1\"\n"
          ]
        }
      ],
      "source": [
        "train$D1A_1V1L <- as.character(train$D1A_1V1L)\n",
        "unique_values <- unique(train$D1A_1V1L)\n",
        "print(unique_values)\n"
      ]
    },
    {
      "cell_type": "code",
      "execution_count": 450,
      "metadata": {
        "vscode": {
          "languageId": "r"
        }
      },
      "outputs": [
        {
          "name": "stdout",
          "output_type": "stream",
          "text": [
            "[1] \"0\" \"1\"\n"
          ]
        }
      ],
      "source": [
        "test$D1A_1V1L <- as.character(test$D1A_1V1L)\n",
        "unique_values <- unique(test$D1A_1V1L)\n",
        "print(unique_values)\n"
      ]
    },
    {
      "cell_type": "code",
      "execution_count": 451,
      "metadata": {
        "vscode": {
          "languageId": "r"
        }
      },
      "outputs": [
        {
          "data": {
            "text/html": [
              "1601"
            ],
            "text/latex": [
              "1601"
            ],
            "text/markdown": [
              "1601"
            ],
            "text/plain": [
              "[1] 1601"
            ]
          },
          "metadata": {},
          "output_type": "display_data"
        }
      ],
      "source": [
        "num_rows <- nrow(train)\n",
        "num_rows"
      ]
    },
    {
      "cell_type": "code",
      "execution_count": 452,
      "metadata": {
        "vscode": {
          "languageId": "r"
        }
      },
      "outputs": [
        {
          "name": "stderr",
          "output_type": "stream",
          "text": [
            "Warning message:\n",
            "\"glm.fit: algorithm did not converge\"\n",
            "Warning message:\n",
            "\"glm.fit: fitted probabilities numerically 0 or 1 occurred\"\n",
            "Warning message in predict.lm(object, newdata, se.fit, scale = 1, type = if (type == :\n",
            "\"prediction from rank-deficient fit; attr(*, \"non-estim\") has doubtful cases\"\n",
            "Warning message:\n",
            "\"glm.fit: algorithm did not converge\"\n",
            "Warning message:\n",
            "\"glm.fit: fitted probabilities numerically 0 or 1 occurred\"\n",
            "Warning message in predict.lm(object, newdata, se.fit, scale = 1, type = if (type == :\n",
            "\"prediction from rank-deficient fit; attr(*, \"non-estim\") has doubtful cases\"\n",
            "Warning message:\n",
            "\"glm.fit: algorithm did not converge\"\n",
            "Warning message:\n",
            "\"glm.fit: fitted probabilities numerically 0 or 1 occurred\"\n",
            "Warning message in predict.lm(object, newdata, se.fit, scale = 1, type = if (type == :\n",
            "\"prediction from rank-deficient fit; attr(*, \"non-estim\") has doubtful cases\"\n",
            "Warning message:\n",
            "\"glm.fit: algorithm did not converge\"\n",
            "Warning message:\n",
            "\"glm.fit: fitted probabilities numerically 0 or 1 occurred\"\n",
            "Warning message in predict.lm(object, newdata, se.fit, scale = 1, type = if (type == :\n",
            "\"prediction from rank-deficient fit; attr(*, \"non-estim\") has doubtful cases\"\n",
            "Warning message:\n",
            "\"glm.fit: algorithm did not converge\"\n",
            "Warning message:\n",
            "\"glm.fit: fitted probabilities numerically 0 or 1 occurred\"\n",
            "Warning message in predict.lm(object, newdata, se.fit, scale = 1, type = if (type == :\n",
            "\"prediction from rank-deficient fit; attr(*, \"non-estim\") has doubtful cases\"\n",
            "Warning message:\n",
            "\"glm.fit: algorithm did not converge\"\n",
            "Warning message:\n",
            "\"glm.fit: fitted probabilities numerically 0 or 1 occurred\"\n",
            "Warning message in predict.lm(object, newdata, se.fit, scale = 1, type = if (type == :\n",
            "\"prediction from rank-deficient fit; attr(*, \"non-estim\") has doubtful cases\"\n",
            "Warning message in predict.lm(object, newdata, se.fit, scale = 1, type = if (type == :\n",
            "\"prediction from rank-deficient fit; attr(*, \"non-estim\") has doubtful cases\"\n",
            "Warning message:\n",
            "\"glm.fit: algorithm did not converge\"\n",
            "Warning message:\n",
            "\"glm.fit: fitted probabilities numerically 0 or 1 occurred\"\n",
            "Warning message in predict.lm(object, newdata, se.fit, scale = 1, type = if (type == :\n",
            "\"prediction from rank-deficient fit; attr(*, \"non-estim\") has doubtful cases\"\n",
            "Warning message:\n",
            "\"glm.fit: algorithm did not converge\"\n",
            "Warning message:\n",
            "\"glm.fit: fitted probabilities numerically 0 or 1 occurred\"\n",
            "Warning message in predict.lm(object, newdata, se.fit, scale = 1, type = if (type == :\n",
            "\"prediction from rank-deficient fit; attr(*, \"non-estim\") has doubtful cases\"\n",
            "Warning message:\n",
            "\"glm.fit: algorithm did not converge\"\n",
            "Warning message:\n",
            "\"glm.fit: fitted probabilities numerically 0 or 1 occurred\"\n",
            "Warning message in predict.lm(object, newdata, se.fit, scale = 1, type = if (type == :\n",
            "\"prediction from rank-deficient fit; attr(*, \"non-estim\") has doubtful cases\"\n",
            "Warning message:\n",
            "\"glm.fit: algorithm did not converge\"\n",
            "Warning message:\n",
            "\"glm.fit: fitted probabilities numerically 0 or 1 occurred\"\n"
          ]
        },
        {
          "ename": "ERROR",
          "evalue": "Error in predict.train(logistic_model, newdata = test, type = \"response\"): type must be either \"raw\" or \"prob\"\n",
          "output_type": "error",
          "traceback": [
            "Error in predict.train(logistic_model, newdata = test, type = \"response\"): type must be either \"raw\" or \"prob\"\nTraceback:\n",
            "1. predict(logistic_model, newdata = test, type = \"response\")",
            "2. predict.train(logistic_model, newdata = test, type = \"response\")",
            "3. stop(\"type must be either \\\"raw\\\" or \\\"prob\\\"\")"
          ]
        }
      ],
      "source": [
        "library(glmnet)\n",
        "logistic_model <- glmnet(as.matrix(train[, -1]), train$D1A_1V1L, family = \"binomial\")\n",
        "cv <- cv.glmnet(as.matrix(train[, -1]), train$D1A_1V1L, family = \"binomial\", nfolds = 5)\n",
        "print(cv)\n",
        "plot(cv)"
      ]
    },
    {
      "cell_type": "code",
      "execution_count": null,
      "metadata": {
        "vscode": {
          "languageId": "r"
        }
      },
      "outputs": [
        {
          "name": "stderr",
          "output_type": "stream",
          "text": [
            "Warning message:\n",
            "\"glm.fit: algorithm did not converge\"\n",
            "Warning message:\n",
            "\"glm.fit: fitted probabilities numerically 0 or 1 occurred\"\n",
            "Warning message in predict.lm(object, newdata, se.fit, scale = 1, type = if (type == :\n",
            "\"prediction from rank-deficient fit; attr(*, \"non-estim\") has doubtful cases\"\n",
            "Warning message in predict.lm(object, newdata, se.fit, scale = 1, type = if (type == :\n",
            "\"prediction from rank-deficient fit; attr(*, \"non-estim\") has doubtful cases\"\n",
            "Warning message:\n",
            "\"glm.fit: algorithm did not converge\"\n",
            "Warning message:\n",
            "\"glm.fit: fitted probabilities numerically 0 or 1 occurred\"\n",
            "Warning message in predict.lm(object, newdata, se.fit, scale = 1, type = if (type == :\n",
            "\"prediction from rank-deficient fit; attr(*, \"non-estim\") has doubtful cases\"\n",
            "Warning message:\n",
            "\"glm.fit: algorithm did not converge\"\n",
            "Warning message in predict.lm(object, newdata, se.fit, scale = 1, type = if (type == :\n",
            "\"prediction from rank-deficient fit; attr(*, \"non-estim\") has doubtful cases\"\n",
            "Warning message:\n",
            "\"glm.fit: algorithm did not converge\"\n",
            "Warning message:\n",
            "\"glm.fit: fitted probabilities numerically 0 or 1 occurred\"\n",
            "Warning message in predict.lm(object, newdata, se.fit, scale = 1, type = if (type == :\n",
            "\"prediction from rank-deficient fit; attr(*, \"non-estim\") has doubtful cases\"\n",
            "Warning message:\n",
            "\"glm.fit: algorithm did not converge\"\n",
            "Warning message:\n",
            "\"glm.fit: fitted probabilities numerically 0 or 1 occurred\"\n",
            "Warning message in predict.lm(object, newdata, se.fit, scale = 1, type = if (type == :\n",
            "\"prediction from rank-deficient fit; attr(*, \"non-estim\") has doubtful cases\"\n",
            "Warning message:\n",
            "\"glm.fit: algorithm did not converge\"\n",
            "Warning message:\n",
            "\"glm.fit: fitted probabilities numerically 0 or 1 occurred\"\n",
            "Warning message in predict.lm(object, newdata, se.fit, scale = 1, type = if (type == :\n",
            "\"prediction from rank-deficient fit; attr(*, \"non-estim\") has doubtful cases\"\n",
            "Warning message:\n",
            "\"glm.fit: algorithm did not converge\"\n",
            "Warning message:\n",
            "\"glm.fit: fitted probabilities numerically 0 or 1 occurred\"\n",
            "Warning message in predict.lm(object, newdata, se.fit, scale = 1, type = if (type == :\n",
            "\"prediction from rank-deficient fit; attr(*, \"non-estim\") has doubtful cases\"\n",
            "Warning message:\n",
            "\"glm.fit: algorithm did not converge\"\n",
            "Warning message:\n",
            "\"glm.fit: fitted probabilities numerically 0 or 1 occurred\"\n",
            "Warning message in predict.lm(object, newdata, se.fit, scale = 1, type = if (type == :\n",
            "\"prediction from rank-deficient fit; attr(*, \"non-estim\") has doubtful cases\"\n",
            "Warning message:\n",
            "\"glm.fit: algorithm did not converge\"\n",
            "Warning message:\n",
            "\"glm.fit: fitted probabilities numerically 0 or 1 occurred\"\n",
            "Warning message in predict.lm(object, newdata, se.fit, scale = 1, type = if (type == :\n",
            "\"prediction from rank-deficient fit; attr(*, \"non-estim\") has doubtful cases\"\n",
            "Warning message:\n",
            "\"glm.fit: algorithm did not converge\"\n",
            "Warning message:\n",
            "\"glm.fit: fitted probabilities numerically 0 or 1 occurred\"\n",
            "Warning message in predict.lm(object, newdata, se.fit, scale = 1, type = if (type == :\n",
            "\"prediction from rank-deficient fit; attr(*, \"non-estim\") has doubtful cases\"\n",
            "Setting levels: control = 0, case = 1\n",
            "\n"
          ]
        },
        {
          "ename": "ERROR",
          "evalue": "Error in roc.default(test$D1A_1V1L, predictions): Predictor must be numeric or ordered.\n",
          "output_type": "error",
          "traceback": [
            "Error in roc.default(test$D1A_1V1L, predictions): Predictor must be numeric or ordered.\nTraceback:\n",
            "1. roc(test$D1A_1V1L, predictions)",
            "2. roc.default(test$D1A_1V1L, predictions)",
            "3. stop(\"Predictor must be numeric or ordered.\")"
          ]
        }
      ],
      "source": [
        "# Load required libraries\n",
        "library(caret)\n",
        "library(pROC)\n",
        "\n",
        "# Define the control parameters for cross-validation\n",
        "ctrl <- trainControl(method = \"cv\",   # Use cross-validation\n",
        "                     number = 10)     # 10-fold cross-validation\n",
        "\n",
        "# Train the logistic regression model with cross-validation\n",
        "logistic_model <- train(D1A_1V1L ~ .,             # Formula specifying the model\n",
        "                        data = train,            # Training data\n",
        "                        method = \"glm\",         # Specify glm method\n",
        "                        trControl = ctrl,       # Cross-validation control\n",
        "                        family = binomial)      # Binomial family for logistic regression\n",
        "\n",
        "# Make predictions on the test set\n",
        "predictions <- predict(logistic_model, newdata = test)\n",
        "\n",
        "# Evaluate the model performance\n",
        "performance <- roc(test$D1A_1V1L, predictions)\n",
        "\n"
      ]
    },
    {
      "cell_type": "code",
      "execution_count": null,
      "metadata": {
        "vscode": {
          "languageId": "r"
        }
      },
      "outputs": [],
      "source": [
        "# Random Forest "
      ]
    },
    {
      "cell_type": "code",
      "execution_count": null,
      "metadata": {
        "vscode": {
          "languageId": "r"
        }
      },
      "outputs": [
        {
          "data": {
            "text/plain": [
              "                Length Class      Mode     \n",
              "call               4   -none-     call     \n",
              "type               1   -none-     character\n",
              "predicted       1601   factor     numeric  \n",
              "err.rate        1500   -none-     numeric  \n",
              "confusion          6   -none-     numeric  \n",
              "votes           3202   matrix     numeric  \n",
              "oob.times       1601   -none-     numeric  \n",
              "classes            2   -none-     character\n",
              "importance        52   -none-     numeric  \n",
              "importanceSD       0   -none-     NULL     \n",
              "localImportance    0   -none-     NULL     \n",
              "proximity          0   -none-     NULL     \n",
              "ntree              1   -none-     numeric  \n",
              "mtry               1   -none-     numeric  \n",
              "forest            14   -none-     list     \n",
              "y               1601   factor     numeric  \n",
              "test               0   -none-     NULL     \n",
              "inbag              0   -none-     NULL     \n",
              "xNames            52   -none-     character\n",
              "problemType        1   -none-     character\n",
              "tuneValue          1   data.frame list     \n",
              "obsLevels          2   -none-     character\n",
              "param              0   -none-     list     "
            ]
          },
          "metadata": {},
          "output_type": "display_data"
        },
        {
          "ename": "ERROR",
          "evalue": "Error: `data` and `reference` should be factors with the same levels.\n",
          "output_type": "error",
          "traceback": [
            "Error: `data` and `reference` should be factors with the same levels.\nTraceback:\n",
            "1. confusionMatrix(predictions, test$D1A_1V1L)",
            "2. confusionMatrix.default(predictions, test$D1A_1V1L)",
            "3. stop(\"`data` and `reference` should be factors with the same levels.\", \n .     call. = FALSE)"
          ]
        }
      ],
      "source": [
        "# Load required libraries\n",
        "library(caret)\n",
        "\n",
        "# Define the control parameters for cross-validation\n",
        "ctrl <- trainControl(method = \"cv\",   # Use cross-validation\n",
        "                     number = 10)     # 10-fold cross-validation\n",
        "\n",
        "# Train the Random Forest model with cross-validation\n",
        "rf_model <- train(D1A_1V1L ~ .,             # Formula specifying the model\n",
        "                  data = train,            # Training data\n",
        "                  method = \"rf\",           # Random Forest method\n",
        "                  trControl = ctrl)       # Cross-validation control\n",
        "\n",
        "# View the summary of the trained model\n",
        "summary(rf_model)\n",
        "\n",
        "# Ensure predicted values have the same levels as actual values\n",
        "predictions <- factor(predictions, levels = levels(test$D1A_1V1L))\n",
        "\n",
        "# Evaluate the model performance\n",
        "confusionMatrix(predictions, test$D1A_1V1L)\n",
        "\n"
      ]
    }
  ],
  "metadata": {
    "kernelspec": {
      "display_name": "R",
      "language": "R",
      "name": "ir"
    },
    "language_info": {
      "codemirror_mode": "r",
      "file_extension": ".r",
      "mimetype": "text/x-r-source",
      "name": "R",
      "pygments_lexer": "r",
      "version": "4.3.1"
    }
  },
  "nbformat": 4,
  "nbformat_minor": 4
}
