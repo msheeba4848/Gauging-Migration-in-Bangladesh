{
 "cells": [
  {
   "cell_type": "code",
   "execution_count": 3,
   "metadata": {},
   "outputs": [
    {
     "name": "stdout",
     "output_type": "stream",
     "text": [
      "   BEM_ID   P_IDCOR  H_IDNUMBER    HHNO  PERSNO  RELHEAD  A03  A07     A08  \\\n",
      "0     203  999999.0    999999.0  3169.0       3      3.0  2.0  1.0  2004.0   \n",
      "1     203  999999.0    999999.0  3169.0       4      3.0  2.0  1.0  2012.0   \n",
      "2     203  999999.0    999999.0  3169.0       5      3.0  1.0  1.0  2016.0   \n",
      "3     203  999999.0    999999.0  3169.0       2      2.0  2.0  1.0  1985.0   \n",
      "4     203  999999.0    999999.0  3169.0       1      1.0  1.0  2.0  1979.0   \n",
      "\n",
      "        A09  ...  G2_5B1S1    G2_6S1    G2_7S1  DISTRICT  D1A_10AF_3M  \\\n",
      "0  999999.0  ...  999999.0  999999.0  999999.0       4.0     999999.0   \n",
      "1  999999.0  ...  999999.0  999999.0  999999.0       4.0     999999.0   \n",
      "2  999999.0  ...  999999.0  999999.0  999999.0       4.0     999999.0   \n",
      "3  999999.0  ...  999999.0  999999.0  999999.0       4.0     999999.0   \n",
      "4  999999.0  ...  999999.0  999999.0  999999.0       4.0     999999.0   \n",
      "\n",
      "   D1A_10AL_3M  D1C_10AF_3M  D1C_10AL_3M  A05  MOUZA_GRP  \n",
      "0     999999.0     999999.0     999999.0  1.0        4.0  \n",
      "1     999999.0     999999.0     999999.0  1.0        4.0  \n",
      "2     999999.0     999999.0     999999.0  1.0        4.0  \n",
      "3     999999.0     999999.0     999999.0  1.0        4.0  \n",
      "4     999999.0     999999.0     999999.0  1.0        4.0  \n",
      "\n",
      "[5 rows x 154 columns]\n"
     ]
    }
   ],
   "source": [
    "import pandas as pd\n",
    "\n",
    "df = pd.read_csv('../cleaned_data/cleaning_data-02.csv')\n",
    "df.fillna(999999, inplace=True)\n",
    "print(df.head())"
   ]
  },
  {
   "cell_type": "code",
   "execution_count": 4,
   "metadata": {},
   "outputs": [
    {
     "name": "stdout",
     "output_type": "stream",
     "text": [
      "original feature number: 154\n",
      "Reduced feature number: 4\n",
      "SelectKBest(k=4, score_func=<function chi2 at 0x165786e80>)\n",
      "Selected features:\n",
      "D1A_1V3L\n",
      "D1A_1V4L\n",
      "D1A_1V7L\n",
      "D1A_1V8L\n"
     ]
    }
   ],
   "source": [
    "from sklearn.feature_selection import SelectKBest\n",
    "from sklearn.feature_selection import chi2\n",
    "#https://www.analyticsvidhya.com/blog/2020/10/feature-selection-techniques-in-machine-learning/\n",
    "\n",
    "df_cat = df\n",
    "Y = df[['D1A_1V1L']]\n",
    "\n",
    "chi2_features = SelectKBest(chi2, k=4)\n",
    "X_kbest_features = chi2_features.fit_transform(df_cat, Y)\n",
    "\n",
    "print('original feature number:', df_cat.shape[1])\n",
    "print('Reduced feature number:', X_kbest_features.shape[1])\n",
    "\n",
    "print(chi2_features)\n",
    "\n",
    "# Create SelectKBest instance\n",
    "chi2_features = SelectKBest(chi2, k=4)\n",
    "\n",
    "# Fit SelectKBest to the data\n",
    "chi2_features.fit(df_cat, Y)\n",
    "\n",
    "# Get boolean array indicating selected features\n",
    "selected_features = chi2_features.get_support()\n",
    "\n",
    "# Get names of selected features\n",
    "selected_feature_names = df_cat.columns[selected_features]\n",
    "\n",
    "# Print selected feature names\n",
    "print(\"Selected features:\")\n",
    "for feature in selected_feature_names:\n",
    "    print(feature)\n"
   ]
  }
 ],
 "metadata": {
  "kernelspec": {
   "display_name": "base",
   "language": "python",
   "name": "python3"
  },
  "language_info": {
   "codemirror_mode": {
    "name": "ipython",
    "version": 3
   },
   "file_extension": ".py",
   "mimetype": "text/x-python",
   "name": "python",
   "nbconvert_exporter": "python",
   "pygments_lexer": "ipython3",
   "version": "3.11.7"
  }
 },
 "nbformat": 4,
 "nbformat_minor": 2
}
